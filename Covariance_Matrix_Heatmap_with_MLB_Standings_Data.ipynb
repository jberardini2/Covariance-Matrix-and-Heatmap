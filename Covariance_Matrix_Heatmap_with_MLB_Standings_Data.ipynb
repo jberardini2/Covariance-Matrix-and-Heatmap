{
  "nbformat": 4,
  "nbformat_minor": 0,
  "metadata": {
    "colab": {
      "provenance": [],
      "collapsed_sections": [],
      "toc_visible": true,
      "authorship_tag": "ABX9TyOgbyUiPzQX+ixS/vj4EOn0",
      "include_colab_link": true
    },
    "kernelspec": {
      "name": "python3",
      "display_name": "Python 3"
    },
    "language_info": {
      "name": "python"
    }
  },
  "cells": [
    {
      "cell_type": "markdown",
      "metadata": {
        "id": "view-in-github",
        "colab_type": "text"
      },
      "source": [
        "<a href=\"https://colab.research.google.com/github/jberardini2/Covariance-Matrix-and-Heatmap/blob/main/Covariance_Matrix_Heatmap_with_MLB_Standings_Data.ipynb\" target=\"_parent\"><img src=\"https://colab.research.google.com/assets/colab-badge.svg\" alt=\"Open In Colab\"/></a>"
      ]
    },
    {
      "cell_type": "markdown",
      "source": [
        "# Creating a Covariance Matrix using MLB Standings Data\n",
        "\n",
        "Modeled After: \n",
        "## https://pub.towardsai.net/covariance-matrix-visualization-using-seaborns-heatmap-plot-64332b6c90c5"
      ],
      "metadata": {
        "id": "woqSQUd-ben-"
      }
    },
    {
      "cell_type": "code",
      "execution_count": 1,
      "metadata": {
        "id": "Q3CniYeNYtzc"
      },
      "outputs": [],
      "source": [
        "import numpy as np\n",
        "import pandas as pd\n",
        "import matplotlib.pyplot as plt\n",
        "import seaborn as sns"
      ]
    },
    {
      "cell_type": "markdown",
      "source": [
        "# Data Collected\n",
        "\n",
        "I gathered data from MLB standings for 2022. I selected the best and the worst teams and recorded the following for 12 teams. The object is to determine which stats correlate with each other by evaluation the covariance matrix.\n",
        "\n",
        "  RD        = Run Differntial\n",
        "\n",
        "  AW        = Number of wins on the road\n",
        "\n",
        "  W500      = Number of wins against over 500 teams\n",
        "\n",
        "  WVL       = Wins versus lefties\n",
        "\n",
        "  W1RUN     = Number of wins in 1 run games\n",
        "\n",
        "  Total1RUN = Total number of 1 run games\n",
        "\n",
        "  WID       = Number of wins in division"
      ],
      "metadata": {
        "id": "kVGTAoXaVs_p"
      }
    },
    {
      "cell_type": "markdown",
      "source": [],
      "metadata": {
        "id": "v_BtAvYIU-XY"
      }
    },
    {
      "cell_type": "code",
      "source": [
        "df_mlb = pd.read_csv('MLB Data for PCA5.csv')\n",
        "df_mlb.head(2) # display the first 2 rows to verify import."
      ],
      "metadata": {
        "colab": {
          "base_uri": "https://localhost:8080/",
          "height": 112
        },
        "id": "CgXIZc1ZbcWo",
        "outputId": "b0d8afea-53e0-4882-fe15-49b78772c2aa"
      },
      "execution_count": 2,
      "outputs": [
        {
          "output_type": "execute_result",
          "data": {
            "text/plain": [
              "  Team  Yankees  Royals  Tigers  Astros   As  Mets  Braves  Nats  Cards  Reds  \\\n",
              "0   RD      209    -167    -162     203 -191   151     171  -213    129  -124   \n",
              "1   AW       38      24      25      47   30    44      41    27     36    29   \n",
              "\n",
              "   Pirates  Dodgers  \n",
              "0     -214      332  \n",
              "1       27       52  "
            ],
            "text/html": [
              "\n",
              "  <div id=\"df-b5e33790-74ba-4584-8972-982600109346\">\n",
              "    <div class=\"colab-df-container\">\n",
              "      <div>\n",
              "<style scoped>\n",
              "    .dataframe tbody tr th:only-of-type {\n",
              "        vertical-align: middle;\n",
              "    }\n",
              "\n",
              "    .dataframe tbody tr th {\n",
              "        vertical-align: top;\n",
              "    }\n",
              "\n",
              "    .dataframe thead th {\n",
              "        text-align: right;\n",
              "    }\n",
              "</style>\n",
              "<table border=\"1\" class=\"dataframe\">\n",
              "  <thead>\n",
              "    <tr style=\"text-align: right;\">\n",
              "      <th></th>\n",
              "      <th>Team</th>\n",
              "      <th>Yankees</th>\n",
              "      <th>Royals</th>\n",
              "      <th>Tigers</th>\n",
              "      <th>Astros</th>\n",
              "      <th>As</th>\n",
              "      <th>Mets</th>\n",
              "      <th>Braves</th>\n",
              "      <th>Nats</th>\n",
              "      <th>Cards</th>\n",
              "      <th>Reds</th>\n",
              "      <th>Pirates</th>\n",
              "      <th>Dodgers</th>\n",
              "    </tr>\n",
              "  </thead>\n",
              "  <tbody>\n",
              "    <tr>\n",
              "      <th>0</th>\n",
              "      <td>RD</td>\n",
              "      <td>209</td>\n",
              "      <td>-167</td>\n",
              "      <td>-162</td>\n",
              "      <td>203</td>\n",
              "      <td>-191</td>\n",
              "      <td>151</td>\n",
              "      <td>171</td>\n",
              "      <td>-213</td>\n",
              "      <td>129</td>\n",
              "      <td>-124</td>\n",
              "      <td>-214</td>\n",
              "      <td>332</td>\n",
              "    </tr>\n",
              "    <tr>\n",
              "      <th>1</th>\n",
              "      <td>AW</td>\n",
              "      <td>38</td>\n",
              "      <td>24</td>\n",
              "      <td>25</td>\n",
              "      <td>47</td>\n",
              "      <td>30</td>\n",
              "      <td>44</td>\n",
              "      <td>41</td>\n",
              "      <td>27</td>\n",
              "      <td>36</td>\n",
              "      <td>29</td>\n",
              "      <td>27</td>\n",
              "      <td>52</td>\n",
              "    </tr>\n",
              "  </tbody>\n",
              "</table>\n",
              "</div>\n",
              "      <button class=\"colab-df-convert\" onclick=\"convertToInteractive('df-b5e33790-74ba-4584-8972-982600109346')\"\n",
              "              title=\"Convert this dataframe to an interactive table.\"\n",
              "              style=\"display:none;\">\n",
              "        \n",
              "  <svg xmlns=\"http://www.w3.org/2000/svg\" height=\"24px\"viewBox=\"0 0 24 24\"\n",
              "       width=\"24px\">\n",
              "    <path d=\"M0 0h24v24H0V0z\" fill=\"none\"/>\n",
              "    <path d=\"M18.56 5.44l.94 2.06.94-2.06 2.06-.94-2.06-.94-.94-2.06-.94 2.06-2.06.94zm-11 1L8.5 8.5l.94-2.06 2.06-.94-2.06-.94L8.5 2.5l-.94 2.06-2.06.94zm10 10l.94 2.06.94-2.06 2.06-.94-2.06-.94-.94-2.06-.94 2.06-2.06.94z\"/><path d=\"M17.41 7.96l-1.37-1.37c-.4-.4-.92-.59-1.43-.59-.52 0-1.04.2-1.43.59L10.3 9.45l-7.72 7.72c-.78.78-.78 2.05 0 2.83L4 21.41c.39.39.9.59 1.41.59.51 0 1.02-.2 1.41-.59l7.78-7.78 2.81-2.81c.8-.78.8-2.07 0-2.86zM5.41 20L4 18.59l7.72-7.72 1.47 1.35L5.41 20z\"/>\n",
              "  </svg>\n",
              "      </button>\n",
              "      \n",
              "  <style>\n",
              "    .colab-df-container {\n",
              "      display:flex;\n",
              "      flex-wrap:wrap;\n",
              "      gap: 12px;\n",
              "    }\n",
              "\n",
              "    .colab-df-convert {\n",
              "      background-color: #E8F0FE;\n",
              "      border: none;\n",
              "      border-radius: 50%;\n",
              "      cursor: pointer;\n",
              "      display: none;\n",
              "      fill: #1967D2;\n",
              "      height: 32px;\n",
              "      padding: 0 0 0 0;\n",
              "      width: 32px;\n",
              "    }\n",
              "\n",
              "    .colab-df-convert:hover {\n",
              "      background-color: #E2EBFA;\n",
              "      box-shadow: 0px 1px 2px rgba(60, 64, 67, 0.3), 0px 1px 3px 1px rgba(60, 64, 67, 0.15);\n",
              "      fill: #174EA6;\n",
              "    }\n",
              "\n",
              "    [theme=dark] .colab-df-convert {\n",
              "      background-color: #3B4455;\n",
              "      fill: #D2E3FC;\n",
              "    }\n",
              "\n",
              "    [theme=dark] .colab-df-convert:hover {\n",
              "      background-color: #434B5C;\n",
              "      box-shadow: 0px 1px 3px 1px rgba(0, 0, 0, 0.15);\n",
              "      filter: drop-shadow(0px 1px 2px rgba(0, 0, 0, 0.3));\n",
              "      fill: #FFFFFF;\n",
              "    }\n",
              "  </style>\n",
              "\n",
              "      <script>\n",
              "        const buttonEl =\n",
              "          document.querySelector('#df-b5e33790-74ba-4584-8972-982600109346 button.colab-df-convert');\n",
              "        buttonEl.style.display =\n",
              "          google.colab.kernel.accessAllowed ? 'block' : 'none';\n",
              "\n",
              "        async function convertToInteractive(key) {\n",
              "          const element = document.querySelector('#df-b5e33790-74ba-4584-8972-982600109346');\n",
              "          const dataTable =\n",
              "            await google.colab.kernel.invokeFunction('convertToInteractive',\n",
              "                                                     [key], {});\n",
              "          if (!dataTable) return;\n",
              "\n",
              "          const docLinkHtml = 'Like what you see? Visit the ' +\n",
              "            '<a target=\"_blank\" href=https://colab.research.google.com/notebooks/data_table.ipynb>data table notebook</a>'\n",
              "            + ' to learn more about interactive tables.';\n",
              "          element.innerHTML = '';\n",
              "          dataTable['output_type'] = 'display_data';\n",
              "          await google.colab.output.renderOutput(dataTable, element);\n",
              "          const docLink = document.createElement('div');\n",
              "          docLink.innerHTML = docLinkHtml;\n",
              "          element.appendChild(docLink);\n",
              "        }\n",
              "      </script>\n",
              "    </div>\n",
              "  </div>\n",
              "  "
            ]
          },
          "metadata": {},
          "execution_count": 2
        }
      ]
    },
    {
      "cell_type": "markdown",
      "source": [
        "## Transposing or switching column names for row names for the covariance matrix."
      ],
      "metadata": {
        "id": "2ZFX0nqkmHGL"
      }
    },
    {
      "cell_type": "code",
      "source": [
        "df_mlb = pd.DataFrame(df_mlb.T).reset_index(0)"
      ],
      "metadata": {
        "id": "jFuFhxEa3cX-"
      },
      "execution_count": 3,
      "outputs": []
    },
    {
      "cell_type": "code",
      "source": [
        "df_mlb"
      ],
      "metadata": {
        "colab": {
          "base_uri": "https://localhost:8080/",
          "height": 457
        },
        "id": "YSZ_WCbz3tho",
        "outputId": "015db86d-abfd-40a0-aaf8-1e377b5d0d18"
      },
      "execution_count": 4,
      "outputs": [
        {
          "output_type": "execute_result",
          "data": {
            "text/plain": [
              "      index     0   1     2    3      4          5    6\n",
              "0      Team    RD  AW  W500  WVL  W1RUN  Total1RUN  WID\n",
              "1   Yankees   209  38    47   24     27         51   40\n",
              "2    Royals  -167  24    29   19     14         31   28\n",
              "3    Tigers  -162  25    25   19     17         35   26\n",
              "4    Astros   203  47    34   38     25         41   51\n",
              "5        As  -191  30    28   13     13         36   24\n",
              "6      Mets   151  44    40   28     20         35   46\n",
              "7    Braves   171  41    31   34     23         38   39\n",
              "8      Nats  -213  27    25   16     15         36   13\n",
              "9     Cards   129  36    27   23     23         38   44\n",
              "10     Reds  -124  29    27   17     19         40   25\n",
              "11  Pirates  -214  27    22   19     19         41   28\n",
              "12  Dodgers   332  52    31   29     13         26   47"
            ],
            "text/html": [
              "\n",
              "  <div id=\"df-fde9eda7-98b8-441c-88e6-8a8e6948a960\">\n",
              "    <div class=\"colab-df-container\">\n",
              "      <div>\n",
              "<style scoped>\n",
              "    .dataframe tbody tr th:only-of-type {\n",
              "        vertical-align: middle;\n",
              "    }\n",
              "\n",
              "    .dataframe tbody tr th {\n",
              "        vertical-align: top;\n",
              "    }\n",
              "\n",
              "    .dataframe thead th {\n",
              "        text-align: right;\n",
              "    }\n",
              "</style>\n",
              "<table border=\"1\" class=\"dataframe\">\n",
              "  <thead>\n",
              "    <tr style=\"text-align: right;\">\n",
              "      <th></th>\n",
              "      <th>index</th>\n",
              "      <th>0</th>\n",
              "      <th>1</th>\n",
              "      <th>2</th>\n",
              "      <th>3</th>\n",
              "      <th>4</th>\n",
              "      <th>5</th>\n",
              "      <th>6</th>\n",
              "    </tr>\n",
              "  </thead>\n",
              "  <tbody>\n",
              "    <tr>\n",
              "      <th>0</th>\n",
              "      <td>Team</td>\n",
              "      <td>RD</td>\n",
              "      <td>AW</td>\n",
              "      <td>W500</td>\n",
              "      <td>WVL</td>\n",
              "      <td>W1RUN</td>\n",
              "      <td>Total1RUN</td>\n",
              "      <td>WID</td>\n",
              "    </tr>\n",
              "    <tr>\n",
              "      <th>1</th>\n",
              "      <td>Yankees</td>\n",
              "      <td>209</td>\n",
              "      <td>38</td>\n",
              "      <td>47</td>\n",
              "      <td>24</td>\n",
              "      <td>27</td>\n",
              "      <td>51</td>\n",
              "      <td>40</td>\n",
              "    </tr>\n",
              "    <tr>\n",
              "      <th>2</th>\n",
              "      <td>Royals</td>\n",
              "      <td>-167</td>\n",
              "      <td>24</td>\n",
              "      <td>29</td>\n",
              "      <td>19</td>\n",
              "      <td>14</td>\n",
              "      <td>31</td>\n",
              "      <td>28</td>\n",
              "    </tr>\n",
              "    <tr>\n",
              "      <th>3</th>\n",
              "      <td>Tigers</td>\n",
              "      <td>-162</td>\n",
              "      <td>25</td>\n",
              "      <td>25</td>\n",
              "      <td>19</td>\n",
              "      <td>17</td>\n",
              "      <td>35</td>\n",
              "      <td>26</td>\n",
              "    </tr>\n",
              "    <tr>\n",
              "      <th>4</th>\n",
              "      <td>Astros</td>\n",
              "      <td>203</td>\n",
              "      <td>47</td>\n",
              "      <td>34</td>\n",
              "      <td>38</td>\n",
              "      <td>25</td>\n",
              "      <td>41</td>\n",
              "      <td>51</td>\n",
              "    </tr>\n",
              "    <tr>\n",
              "      <th>5</th>\n",
              "      <td>As</td>\n",
              "      <td>-191</td>\n",
              "      <td>30</td>\n",
              "      <td>28</td>\n",
              "      <td>13</td>\n",
              "      <td>13</td>\n",
              "      <td>36</td>\n",
              "      <td>24</td>\n",
              "    </tr>\n",
              "    <tr>\n",
              "      <th>6</th>\n",
              "      <td>Mets</td>\n",
              "      <td>151</td>\n",
              "      <td>44</td>\n",
              "      <td>40</td>\n",
              "      <td>28</td>\n",
              "      <td>20</td>\n",
              "      <td>35</td>\n",
              "      <td>46</td>\n",
              "    </tr>\n",
              "    <tr>\n",
              "      <th>7</th>\n",
              "      <td>Braves</td>\n",
              "      <td>171</td>\n",
              "      <td>41</td>\n",
              "      <td>31</td>\n",
              "      <td>34</td>\n",
              "      <td>23</td>\n",
              "      <td>38</td>\n",
              "      <td>39</td>\n",
              "    </tr>\n",
              "    <tr>\n",
              "      <th>8</th>\n",
              "      <td>Nats</td>\n",
              "      <td>-213</td>\n",
              "      <td>27</td>\n",
              "      <td>25</td>\n",
              "      <td>16</td>\n",
              "      <td>15</td>\n",
              "      <td>36</td>\n",
              "      <td>13</td>\n",
              "    </tr>\n",
              "    <tr>\n",
              "      <th>9</th>\n",
              "      <td>Cards</td>\n",
              "      <td>129</td>\n",
              "      <td>36</td>\n",
              "      <td>27</td>\n",
              "      <td>23</td>\n",
              "      <td>23</td>\n",
              "      <td>38</td>\n",
              "      <td>44</td>\n",
              "    </tr>\n",
              "    <tr>\n",
              "      <th>10</th>\n",
              "      <td>Reds</td>\n",
              "      <td>-124</td>\n",
              "      <td>29</td>\n",
              "      <td>27</td>\n",
              "      <td>17</td>\n",
              "      <td>19</td>\n",
              "      <td>40</td>\n",
              "      <td>25</td>\n",
              "    </tr>\n",
              "    <tr>\n",
              "      <th>11</th>\n",
              "      <td>Pirates</td>\n",
              "      <td>-214</td>\n",
              "      <td>27</td>\n",
              "      <td>22</td>\n",
              "      <td>19</td>\n",
              "      <td>19</td>\n",
              "      <td>41</td>\n",
              "      <td>28</td>\n",
              "    </tr>\n",
              "    <tr>\n",
              "      <th>12</th>\n",
              "      <td>Dodgers</td>\n",
              "      <td>332</td>\n",
              "      <td>52</td>\n",
              "      <td>31</td>\n",
              "      <td>29</td>\n",
              "      <td>13</td>\n",
              "      <td>26</td>\n",
              "      <td>47</td>\n",
              "    </tr>\n",
              "  </tbody>\n",
              "</table>\n",
              "</div>\n",
              "      <button class=\"colab-df-convert\" onclick=\"convertToInteractive('df-fde9eda7-98b8-441c-88e6-8a8e6948a960')\"\n",
              "              title=\"Convert this dataframe to an interactive table.\"\n",
              "              style=\"display:none;\">\n",
              "        \n",
              "  <svg xmlns=\"http://www.w3.org/2000/svg\" height=\"24px\"viewBox=\"0 0 24 24\"\n",
              "       width=\"24px\">\n",
              "    <path d=\"M0 0h24v24H0V0z\" fill=\"none\"/>\n",
              "    <path d=\"M18.56 5.44l.94 2.06.94-2.06 2.06-.94-2.06-.94-.94-2.06-.94 2.06-2.06.94zm-11 1L8.5 8.5l.94-2.06 2.06-.94-2.06-.94L8.5 2.5l-.94 2.06-2.06.94zm10 10l.94 2.06.94-2.06 2.06-.94-2.06-.94-.94-2.06-.94 2.06-2.06.94z\"/><path d=\"M17.41 7.96l-1.37-1.37c-.4-.4-.92-.59-1.43-.59-.52 0-1.04.2-1.43.59L10.3 9.45l-7.72 7.72c-.78.78-.78 2.05 0 2.83L4 21.41c.39.39.9.59 1.41.59.51 0 1.02-.2 1.41-.59l7.78-7.78 2.81-2.81c.8-.78.8-2.07 0-2.86zM5.41 20L4 18.59l7.72-7.72 1.47 1.35L5.41 20z\"/>\n",
              "  </svg>\n",
              "      </button>\n",
              "      \n",
              "  <style>\n",
              "    .colab-df-container {\n",
              "      display:flex;\n",
              "      flex-wrap:wrap;\n",
              "      gap: 12px;\n",
              "    }\n",
              "\n",
              "    .colab-df-convert {\n",
              "      background-color: #E8F0FE;\n",
              "      border: none;\n",
              "      border-radius: 50%;\n",
              "      cursor: pointer;\n",
              "      display: none;\n",
              "      fill: #1967D2;\n",
              "      height: 32px;\n",
              "      padding: 0 0 0 0;\n",
              "      width: 32px;\n",
              "    }\n",
              "\n",
              "    .colab-df-convert:hover {\n",
              "      background-color: #E2EBFA;\n",
              "      box-shadow: 0px 1px 2px rgba(60, 64, 67, 0.3), 0px 1px 3px 1px rgba(60, 64, 67, 0.15);\n",
              "      fill: #174EA6;\n",
              "    }\n",
              "\n",
              "    [theme=dark] .colab-df-convert {\n",
              "      background-color: #3B4455;\n",
              "      fill: #D2E3FC;\n",
              "    }\n",
              "\n",
              "    [theme=dark] .colab-df-convert:hover {\n",
              "      background-color: #434B5C;\n",
              "      box-shadow: 0px 1px 3px 1px rgba(0, 0, 0, 0.15);\n",
              "      filter: drop-shadow(0px 1px 2px rgba(0, 0, 0, 0.3));\n",
              "      fill: #FFFFFF;\n",
              "    }\n",
              "  </style>\n",
              "\n",
              "      <script>\n",
              "        const buttonEl =\n",
              "          document.querySelector('#df-fde9eda7-98b8-441c-88e6-8a8e6948a960 button.colab-df-convert');\n",
              "        buttonEl.style.display =\n",
              "          google.colab.kernel.accessAllowed ? 'block' : 'none';\n",
              "\n",
              "        async function convertToInteractive(key) {\n",
              "          const element = document.querySelector('#df-fde9eda7-98b8-441c-88e6-8a8e6948a960');\n",
              "          const dataTable =\n",
              "            await google.colab.kernel.invokeFunction('convertToInteractive',\n",
              "                                                     [key], {});\n",
              "          if (!dataTable) return;\n",
              "\n",
              "          const docLinkHtml = 'Like what you see? Visit the ' +\n",
              "            '<a target=\"_blank\" href=https://colab.research.google.com/notebooks/data_table.ipynb>data table notebook</a>'\n",
              "            + ' to learn more about interactive tables.';\n",
              "          element.innerHTML = '';\n",
              "          dataTable['output_type'] = 'display_data';\n",
              "          await google.colab.output.renderOutput(dataTable, element);\n",
              "          const docLink = document.createElement('div');\n",
              "          docLink.innerHTML = docLinkHtml;\n",
              "          element.appendChild(docLink);\n",
              "        }\n",
              "      </script>\n",
              "    </div>\n",
              "  </div>\n",
              "  "
            ]
          },
          "metadata": {},
          "execution_count": 4
        }
      ]
    },
    {
      "cell_type": "code",
      "source": [
        "print (df_mlb.iloc[0])"
      ],
      "metadata": {
        "colab": {
          "base_uri": "https://localhost:8080/"
        },
        "id": "hKArV77bBC9f",
        "outputId": "89768126-247d-425c-bfac-cbc1dab9d3de"
      },
      "execution_count": 5,
      "outputs": [
        {
          "output_type": "stream",
          "name": "stdout",
          "text": [
            "index         Team\n",
            "0               RD\n",
            "1               AW\n",
            "2             W500\n",
            "3              WVL\n",
            "4            W1RUN\n",
            "5        Total1RUN\n",
            "6              WID\n",
            "Name: 0, dtype: object\n"
          ]
        }
      ]
    },
    {
      "cell_type": "markdown",
      "source": [
        "## Prepping data by assigning row 1 as the column headers. ( The stat names.)"
      ],
      "metadata": {
        "id": "8XYItOp9WvhJ"
      }
    },
    {
      "cell_type": "code",
      "source": [
        "# Assign row as column headers\n",
        "header_row = 0\n",
        "df_mlb.columns = df_mlb.iloc[header_row]\n",
        "print(df_mlb)\n",
        "\n"
      ],
      "metadata": {
        "colab": {
          "base_uri": "https://localhost:8080/"
        },
        "id": "oi6yj7YT6Abz",
        "outputId": "81458049-4a95-4598-9bba-f00b1d4871b7"
      },
      "execution_count": 6,
      "outputs": [
        {
          "output_type": "stream",
          "name": "stdout",
          "text": [
            "0      Team    RD  AW  W500  WVL  W1RUN  Total1RUN  WID\n",
            "0      Team    RD  AW  W500  WVL  W1RUN  Total1RUN  WID\n",
            "1   Yankees   209  38    47   24     27         51   40\n",
            "2    Royals  -167  24    29   19     14         31   28\n",
            "3    Tigers  -162  25    25   19     17         35   26\n",
            "4    Astros   203  47    34   38     25         41   51\n",
            "5        As  -191  30    28   13     13         36   24\n",
            "6      Mets   151  44    40   28     20         35   46\n",
            "7    Braves   171  41    31   34     23         38   39\n",
            "8      Nats  -213  27    25   16     15         36   13\n",
            "9     Cards   129  36    27   23     23         38   44\n",
            "10     Reds  -124  29    27   17     19         40   25\n",
            "11  Pirates  -214  27    22   19     19         41   28\n",
            "12  Dodgers   332  52    31   29     13         26   47\n"
          ]
        }
      ]
    },
    {
      "cell_type": "markdown",
      "source": [
        "## Deleting the first row since it's been re-assigned as the column headers."
      ],
      "metadata": {
        "id": "udYUnju3XPiH"
      }
    },
    {
      "cell_type": "code",
      "source": [
        "df_mlb.drop(df_mlb.iloc[0].name, inplace=True)\n",
        "print (df_mlb)\n"
      ],
      "metadata": {
        "colab": {
          "base_uri": "https://localhost:8080/"
        },
        "id": "uVcSHPc2EfwK",
        "outputId": "e9e10a0b-338f-4f6e-a607-a1765f2cf63c"
      },
      "execution_count": 7,
      "outputs": [
        {
          "output_type": "stream",
          "name": "stdout",
          "text": [
            "0      Team    RD  AW W500 WVL W1RUN Total1RUN WID\n",
            "1   Yankees   209  38   47  24    27        51  40\n",
            "2    Royals  -167  24   29  19    14        31  28\n",
            "3    Tigers  -162  25   25  19    17        35  26\n",
            "4    Astros   203  47   34  38    25        41  51\n",
            "5        As  -191  30   28  13    13        36  24\n",
            "6      Mets   151  44   40  28    20        35  46\n",
            "7    Braves   171  41   31  34    23        38  39\n",
            "8      Nats  -213  27   25  16    15        36  13\n",
            "9     Cards   129  36   27  23    23        38  44\n",
            "10     Reds  -124  29   27  17    19        40  25\n",
            "11  Pirates  -214  27   22  19    19        41  28\n",
            "12  Dodgers   332  52   31  29    13        26  47\n"
          ]
        }
      ]
    },
    {
      "cell_type": "markdown",
      "source": [
        "# Creating the Covariance Matrix"
      ],
      "metadata": {
        "id": "L_x4s4d9Xo3w"
      }
    },
    {
      "cell_type": "code",
      "source": [
        "cols = ['AW', 'W500', 'WVL', 'W1RUN', 'Total1RUN','WID','RD']"
      ],
      "metadata": {
        "id": "FhiFmb6sJR_9"
      },
      "execution_count": 8,
      "outputs": []
    },
    {
      "cell_type": "code",
      "source": [
        "from sklearn.preprocessing import StandardScaler"
      ],
      "metadata": {
        "id": "1tSGACEaKG2v"
      },
      "execution_count": 9,
      "outputs": []
    },
    {
      "cell_type": "code",
      "source": [
        "stdsc = StandardScaler()"
      ],
      "metadata": {
        "id": "4QcU6-ouKHM4"
      },
      "execution_count": 10,
      "outputs": []
    },
    {
      "cell_type": "code",
      "source": [
        "X_std = stdsc.fit_transform(df_mlb[cols].iloc[:,range(0,7)].values)"
      ],
      "metadata": {
        "id": "sdTAXMncKHja"
      },
      "execution_count": 11,
      "outputs": []
    },
    {
      "cell_type": "code",
      "source": [
        "cov_mat =np.cov(X_std.T)"
      ],
      "metadata": {
        "id": "DkHHg61jKINW"
      },
      "execution_count": 12,
      "outputs": []
    },
    {
      "cell_type": "markdown",
      "source": [
        "# Creating the Heatmap to evaluate different features\n",
        "\n",
        "The run differential is showing the most correlation to the other stats. Wins versus lefties, wins in division and the number of away wins is also favorably correlated."
      ],
      "metadata": {
        "id": "jDmJDwJsX0n6"
      }
    },
    {
      "cell_type": "code",
      "source": [
        "plt.figure(figsize=(10,10))\n",
        "sns.set(font_scale=1.5)\n",
        "hm = sns.heatmap(cov_mat,\n",
        "                 cbar=True,\n",
        "                 annot=True,\n",
        "                 square=True,\n",
        "                 fmt='.2f',\n",
        "                 annot_kws={'size': 12},\n",
        "                 yticklabels=cols,\n",
        "                 xticklabels=cols)\n",
        "plt.title('Covariance matrix showing correlation coefficients')\n",
        "plt.tight_layout()\n",
        "plt.show()"
      ],
      "metadata": {
        "colab": {
          "base_uri": "https://localhost:8080/",
          "height": 678
        },
        "id": "XMXc2srVJSb-",
        "outputId": "3de1aeaf-0401-4773-9a1a-0c610053fd65"
      },
      "execution_count": 13,
      "outputs": [
        {
          "output_type": "display_data",
          "data": {
            "text/plain": [
              "<Figure size 720x720 with 2 Axes>"
            ],
            "image/png": "[encoded data removed]"
          },
          "metadata": {
            "needs_background": "light"
          }
        }
      ]
    },
    {
      "cell_type": "code",
      "source": [
        "print (\n",
        "  \"RD        = Run Differntial\\n\"\\\n",
        "  \"AW        = Number of wins on the road\\n\"\\\n",
        "  \"W500      = Number of wins against over 500 teams\\n\"\\\n",
        "  \"WVL       = Wins versus lefties\\n\"\\\n",
        "  \"W1RUN     = Number of wins in 1 run games\\n\"\\\n",
        "  \"Total1RUN = Total number of 1 run games\\n\"\\\n",
        "  \"WID       = Number of wins in division\"\n",
        "  )"
      ],
      "metadata": {
        "colab": {
          "base_uri": "https://localhost:8080/"
        },
        "id": "IyF_sUh-JSsK",
        "outputId": "a7c18693-f752-474f-a9c4-9c4c6fb17ac3"
      },
      "execution_count": 14,
      "outputs": [
        {
          "output_type": "stream",
          "name": "stdout",
          "text": [
            "RD        = Run Differntial\n",
            "AW        = Number of wins on the road\n",
            "W500      = Number of wins against over 500 teams\n",
            "WVL       = Wins versus lefties\n",
            "W1RUN     = Number of wins in 1 run games\n",
            "Total1RUN = Total number of 1 run games\n",
            "WID       = Number of wins in division\n"
          ]
        }
      ]
    },
    {
      "cell_type": "markdown",
      "source": [
        "# After evaluation 2 features will be removed. \n",
        "1. Number of wins in 1 run games.\n",
        "2. Total number of 1 run games."
      ],
      "metadata": {
        "id": "-sPpY7OWX-CD"
      }
    },
    {
      "cell_type": "code",
      "source": [
        "cols_selected = ['AW', 'W500', 'WVL', 'WID','RD', 'Team']\n"
      ],
      "metadata": {
        "id": "YBhScKCzPzYS"
      },
      "execution_count": 15,
      "outputs": []
    },
    {
      "cell_type": "markdown",
      "source": [
        "# Four of the features are selected as the predictors (independent variable):\n",
        "AW, W500, WVL and WID\n",
        "\n",
        "## The target variable will be RD or run differential."
      ],
      "metadata": {
        "id": "iilHmZ8eYWFI"
      }
    },
    {
      "cell_type": "code",
      "source": [
        "df_mlb[cols_selected]"
      ],
      "metadata": {
        "colab": {
          "base_uri": "https://localhost:8080/",
          "height": 426
        },
        "id": "12r5vE__RjWK",
        "outputId": "1d0f9321-2593-4cb2-8966-5b959b446d55"
      },
      "execution_count": 16,
      "outputs": [
        {
          "output_type": "execute_result",
          "data": {
            "text/plain": [
              "0   AW W500 WVL WID    RD     Team\n",
              "1   38   47  24  40   209  Yankees\n",
              "2   24   29  19  28  -167   Royals\n",
              "3   25   25  19  26  -162   Tigers\n",
              "4   47   34  38  51   203   Astros\n",
              "5   30   28  13  24  -191       As\n",
              "6   44   40  28  46   151     Mets\n",
              "7   41   31  34  39   171   Braves\n",
              "8   27   25  16  13  -213     Nats\n",
              "9   36   27  23  44   129    Cards\n",
              "10  29   27  17  25  -124     Reds\n",
              "11  27   22  19  28  -214  Pirates\n",
              "12  52   31  29  47   332  Dodgers"
            ],
            "text/html": [
              "\n",
              "  <div id=\"df-1f0e8098-90ca-434a-b161-586f5da1ee4b\">\n",
              "    <div class=\"colab-df-container\">\n",
              "      <div>\n",
              "<style scoped>\n",
              "    .dataframe tbody tr th:only-of-type {\n",
              "        vertical-align: middle;\n",
              "    }\n",
              "\n",
              "    .dataframe tbody tr th {\n",
              "        vertical-align: top;\n",
              "    }\n",
              "\n",
              "    .dataframe thead th {\n",
              "        text-align: right;\n",
              "    }\n",
              "</style>\n",
              "<table border=\"1\" class=\"dataframe\">\n",
              "  <thead>\n",
              "    <tr style=\"text-align: right;\">\n",
              "      <th></th>\n",
              "      <th>AW</th>\n",
              "      <th>W500</th>\n",
              "      <th>WVL</th>\n",
              "      <th>WID</th>\n",
              "      <th>RD</th>\n",
              "      <th>Team</th>\n",
              "    </tr>\n",
              "  </thead>\n",
              "  <tbody>\n",
              "    <tr>\n",
              "      <th>1</th>\n",
              "      <td>38</td>\n",
              "      <td>47</td>\n",
              "      <td>24</td>\n",
              "      <td>40</td>\n",
              "      <td>209</td>\n",
              "      <td>Yankees</td>\n",
              "    </tr>\n",
              "    <tr>\n",
              "      <th>2</th>\n",
              "      <td>24</td>\n",
              "      <td>29</td>\n",
              "      <td>19</td>\n",
              "      <td>28</td>\n",
              "      <td>-167</td>\n",
              "      <td>Royals</td>\n",
              "    </tr>\n",
              "    <tr>\n",
              "      <th>3</th>\n",
              "      <td>25</td>\n",
              "      <td>25</td>\n",
              "      <td>19</td>\n",
              "      <td>26</td>\n",
              "      <td>-162</td>\n",
              "      <td>Tigers</td>\n",
              "    </tr>\n",
              "    <tr>\n",
              "      <th>4</th>\n",
              "      <td>47</td>\n",
              "      <td>34</td>\n",
              "      <td>38</td>\n",
              "      <td>51</td>\n",
              "      <td>203</td>\n",
              "      <td>Astros</td>\n",
              "    </tr>\n",
              "    <tr>\n",
              "      <th>5</th>\n",
              "      <td>30</td>\n",
              "      <td>28</td>\n",
              "      <td>13</td>\n",
              "      <td>24</td>\n",
              "      <td>-191</td>\n",
              "      <td>As</td>\n",
              "    </tr>\n",
              "    <tr>\n",
              "      <th>6</th>\n",
              "      <td>44</td>\n",
              "      <td>40</td>\n",
              "      <td>28</td>\n",
              "      <td>46</td>\n",
              "      <td>151</td>\n",
              "      <td>Mets</td>\n",
              "    </tr>\n",
              "    <tr>\n",
              "      <th>7</th>\n",
              "      <td>41</td>\n",
              "      <td>31</td>\n",
              "      <td>34</td>\n",
              "      <td>39</td>\n",
              "      <td>171</td>\n",
              "      <td>Braves</td>\n",
              "    </tr>\n",
              "    <tr>\n",
              "      <th>8</th>\n",
              "      <td>27</td>\n",
              "      <td>25</td>\n",
              "      <td>16</td>\n",
              "      <td>13</td>\n",
              "      <td>-213</td>\n",
              "      <td>Nats</td>\n",
              "    </tr>\n",
              "    <tr>\n",
              "      <th>9</th>\n",
              "      <td>36</td>\n",
              "      <td>27</td>\n",
              "      <td>23</td>\n",
              "      <td>44</td>\n",
              "      <td>129</td>\n",
              "      <td>Cards</td>\n",
              "    </tr>\n",
              "    <tr>\n",
              "      <th>10</th>\n",
              "      <td>29</td>\n",
              "      <td>27</td>\n",
              "      <td>17</td>\n",
              "      <td>25</td>\n",
              "      <td>-124</td>\n",
              "      <td>Reds</td>\n",
              "    </tr>\n",
              "    <tr>\n",
              "      <th>11</th>\n",
              "      <td>27</td>\n",
              "      <td>22</td>\n",
              "      <td>19</td>\n",
              "      <td>28</td>\n",
              "      <td>-214</td>\n",
              "      <td>Pirates</td>\n",
              "    </tr>\n",
              "    <tr>\n",
              "      <th>12</th>\n",
              "      <td>52</td>\n",
              "      <td>31</td>\n",
              "      <td>29</td>\n",
              "      <td>47</td>\n",
              "      <td>332</td>\n",
              "      <td>Dodgers</td>\n",
              "    </tr>\n",
              "  </tbody>\n",
              "</table>\n",
              "</div>\n",
              "      <button class=\"colab-df-convert\" onclick=\"convertToInteractive('df-1f0e8098-90ca-434a-b161-586f5da1ee4b')\"\n",
              "              title=\"Convert this dataframe to an interactive table.\"\n",
              "              style=\"display:none;\">\n",
              "        \n",
              "  <svg xmlns=\"http://www.w3.org/2000/svg\" height=\"24px\"viewBox=\"0 0 24 24\"\n",
              "       width=\"24px\">\n",
              "    <path d=\"M0 0h24v24H0V0z\" fill=\"none\"/>\n",
              "    <path d=\"M18.56 5.44l.94 2.06.94-2.06 2.06-.94-2.06-.94-.94-2.06-.94 2.06-2.06.94zm-11 1L8.5 8.5l.94-2.06 2.06-.94-2.06-.94L8.5 2.5l-.94 2.06-2.06.94zm10 10l.94 2.06.94-2.06 2.06-.94-2.06-.94-.94-2.06-.94 2.06-2.06.94z\"/><path d=\"M17.41 7.96l-1.37-1.37c-.4-.4-.92-.59-1.43-.59-.52 0-1.04.2-1.43.59L10.3 9.45l-7.72 7.72c-.78.78-.78 2.05 0 2.83L4 21.41c.39.39.9.59 1.41.59.51 0 1.02-.2 1.41-.59l7.78-7.78 2.81-2.81c.8-.78.8-2.07 0-2.86zM5.41 20L4 18.59l7.72-7.72 1.47 1.35L5.41 20z\"/>\n",
              "  </svg>\n",
              "      </button>\n",
              "      \n",
              "  <style>\n",
              "    .colab-df-container {\n",
              "      display:flex;\n",
              "      flex-wrap:wrap;\n",
              "      gap: 12px;\n",
              "    }\n",
              "\n",
              "    .colab-df-convert {\n",
              "      background-color: #E8F0FE;\n",
              "      border: none;\n",
              "      border-radius: 50%;\n",
              "      cursor: pointer;\n",
              "      display: none;\n",
              "      fill: #1967D2;\n",
              "      height: 32px;\n",
              "      padding: 0 0 0 0;\n",
              "      width: 32px;\n",
              "    }\n",
              "\n",
              "    .colab-df-convert:hover {\n",
              "      background-color: #E2EBFA;\n",
              "      box-shadow: 0px 1px 2px rgba(60, 64, 67, 0.3), 0px 1px 3px 1px rgba(60, 64, 67, 0.15);\n",
              "      fill: #174EA6;\n",
              "    }\n",
              "\n",
              "    [theme=dark] .colab-df-convert {\n",
              "      background-color: #3B4455;\n",
              "      fill: #D2E3FC;\n",
              "    }\n",
              "\n",
              "    [theme=dark] .colab-df-convert:hover {\n",
              "      background-color: #434B5C;\n",
              "      box-shadow: 0px 1px 3px 1px rgba(0, 0, 0, 0.15);\n",
              "      filter: drop-shadow(0px 1px 2px rgba(0, 0, 0, 0.3));\n",
              "      fill: #FFFFFF;\n",
              "    }\n",
              "  </style>\n",
              "\n",
              "      <script>\n",
              "        const buttonEl =\n",
              "          document.querySelector('#df-1f0e8098-90ca-434a-b161-586f5da1ee4b button.colab-df-convert');\n",
              "        buttonEl.style.display =\n",
              "          google.colab.kernel.accessAllowed ? 'block' : 'none';\n",
              "\n",
              "        async function convertToInteractive(key) {\n",
              "          const element = document.querySelector('#df-1f0e8098-90ca-434a-b161-586f5da1ee4b');\n",
              "          const dataTable =\n",
              "            await google.colab.kernel.invokeFunction('convertToInteractive',\n",
              "                                                     [key], {});\n",
              "          if (!dataTable) return;\n",
              "\n",
              "          const docLinkHtml = 'Like what you see? Visit the ' +\n",
              "            '<a target=\"_blank\" href=https://colab.research.google.com/notebooks/data_table.ipynb>data table notebook</a>'\n",
              "            + ' to learn more about interactive tables.';\n",
              "          element.innerHTML = '';\n",
              "          dataTable['output_type'] = 'display_data';\n",
              "          await google.colab.output.renderOutput(dataTable, element);\n",
              "          const docLink = document.createElement('div');\n",
              "          docLink.innerHTML = docLinkHtml;\n",
              "          element.appendChild(docLink);\n",
              "        }\n",
              "      </script>\n",
              "    </div>\n",
              "  </div>\n",
              "  "
            ]
          },
          "metadata": {},
          "execution_count": 16
        }
      ]
    },
    {
      "cell_type": "code",
      "source": [
        "X = df_mlb[cols_selected].iloc[:,0:4].values    # features matrix  \n"
      ],
      "metadata": {
        "id": "faS71zJuZQs1"
      },
      "execution_count": 18,
      "outputs": []
    },
    {
      "cell_type": "code",
      "source": [
        "y = df_mlb[cols_selected]['RD'].values        # target variable"
      ],
      "metadata": {
        "id": "tmsDCD-nZRXY"
      },
      "execution_count": 21,
      "outputs": []
    },
    {
      "cell_type": "code",
      "source": [
        "X"
      ],
      "metadata": {
        "colab": {
          "base_uri": "https://localhost:8080/"
        },
        "id": "6CXIiiflZu82",
        "outputId": "9ef29d24-c943-44c6-b2fe-e840aafe9628"
      },
      "execution_count": 22,
      "outputs": [
        {
          "output_type": "execute_result",
          "data": {
            "text/plain": [
              "array([[38, 47, 24, 40],\n",
              "       [24, 29, 19, 28],\n",
              "       [25, 25, 19, 26],\n",
              "       [47, 34, 38, 51],\n",
              "       [30, 28, 13, 24],\n",
              "       [44, 40, 28, 46],\n",
              "       [41, 31, 34, 39],\n",
              "       [27, 25, 16, 13],\n",
              "       [36, 27, 23, 44],\n",
              "       [29, 27, 17, 25],\n",
              "       [27, 22, 19, 28],\n",
              "       [52, 31, 29, 47]], dtype=object)"
            ]
          },
          "metadata": {},
          "execution_count": 22
        }
      ]
    },
    {
      "cell_type": "code",
      "source": [
        "y"
      ],
      "metadata": {
        "colab": {
          "base_uri": "https://localhost:8080/"
        },
        "id": "sxdgMaZ_ZvYY",
        "outputId": "f86d2d75-80dc-4075-f207-5faecc93cf52"
      },
      "execution_count": 23,
      "outputs": [
        {
          "output_type": "execute_result",
          "data": {
            "text/plain": [
              "array([209, -167, -162, 203, -191, 151, 171, -213, 129, -124, -214, 332],\n",
              "      dtype=object)"
            ]
          },
          "metadata": {},
          "execution_count": 23
        }
      ]
    },
    {
      "cell_type": "markdown",
      "source": [
        "# From here model building can begin."
      ],
      "metadata": {
        "id": "Dud5498tZ9eA"
      }
    },
    {
      "cell_type": "markdown",
      "source": [],
      "metadata": {
        "id": "k6mfE75-PzxT"
      }
    }
  ]
}